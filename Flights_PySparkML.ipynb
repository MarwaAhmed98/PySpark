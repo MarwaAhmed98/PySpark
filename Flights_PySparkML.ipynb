{
 "cells": [
  {
   "cell_type": "code",
   "execution_count": 27,
   "metadata": {},
   "outputs": [],
   "source": [
    "from pyspark.sql import SparkSession"
   ]
  },
  {
   "cell_type": "markdown",
   "metadata": {},
   "source": [
    "## Initiate a Spark Session & Load data"
   ]
  },
  {
   "cell_type": "code",
   "execution_count": 28,
   "metadata": {},
   "outputs": [],
   "source": [
    "spark= SparkSession.builder.master('local[*]').appName(\"test\").getOrCreate()"
   ]
  },
  {
   "cell_type": "code",
   "execution_count": 29,
   "metadata": {},
   "outputs": [
    {
     "name": "stdout",
     "output_type": "stream",
     "text": [
      "2.3.2\n"
     ]
    }
   ],
   "source": [
    "print(spark.version)"
   ]
  },
  {
   "cell_type": "code",
   "execution_count": 30,
   "metadata": {},
   "outputs": [
    {
     "name": "stdout",
     "output_type": "stream",
     "text": [
      "--2020-03-17 20:52:58--  https://assets.datacamp.com/production/repositories/3918/datasets/c601f67a55e03400acb6c72ac0937c4b95906e88/flights.csv\n",
      "Resolving assets.datacamp.com (assets.datacamp.com)... 99.86.57.3, 99.86.57.98, 99.86.57.120, ...\n",
      "Connecting to assets.datacamp.com (assets.datacamp.com)|99.86.57.3|:443... connected.\n",
      "HTTP request sent, awaiting response... 200 OK\n",
      "Length: 1756579 (1.7M) [text/csv]\n",
      "Saving to: ‘flights.csv.1’\n",
      "\n",
      "flights.csv.1       100%[===================>]   1.67M  --.-KB/s    in 0.1s    \n",
      "\n",
      "2020-03-17 20:52:58 (12.7 MB/s) - ‘flights.csv.1’ saved [1756579/1756579]\n",
      "\n"
     ]
    }
   ],
   "source": [
    "!wget 'https://assets.datacamp.com/production/repositories/3918/datasets/c601f67a55e03400acb6c72ac0937c4b95906e88/flights.csv'"
   ]
  },
  {
   "cell_type": "code",
   "execution_count": 31,
   "metadata": {},
   "outputs": [],
   "source": [
    "flights=spark.read.csv(\"flights.csv\", sep=',', header=True, inferSchema=True, nullValue='NA')"
   ]
  },
  {
   "cell_type": "code",
   "execution_count": 32,
   "metadata": {},
   "outputs": [
    {
     "name": "stdout",
     "output_type": "stream",
     "text": [
      "+---+---+---+-------+------+---+----+------+--------+-----+\n",
      "|mon|dom|dow|carrier|flight|org|mile|depart|duration|delay|\n",
      "+---+---+---+-------+------+---+----+------+--------+-----+\n",
      "| 11| 20|  6|     US|    19|JFK|2153|  9.48|     351| null|\n",
      "|  0| 22|  2|     UA|  1107|ORD| 316| 16.33|      82|   30|\n",
      "|  2| 20|  4|     UA|   226|SFO| 337|  6.17|      82|   -8|\n",
      "+---+---+---+-------+------+---+----+------+--------+-----+\n",
      "only showing top 3 rows\n",
      "\n"
     ]
    }
   ],
   "source": [
    "flights.show(3)"
   ]
  },
  {
   "cell_type": "code",
   "execution_count": 33,
   "metadata": {},
   "outputs": [
    {
     "name": "stdout",
     "output_type": "stream",
     "text": [
      "Ther data contain 50000 records.\n"
     ]
    }
   ],
   "source": [
    "print(\"Ther data contain %d records.\"% flights.count())"
   ]
  },
  {
   "cell_type": "code",
   "execution_count": 34,
   "metadata": {},
   "outputs": [
    {
     "data": {
      "text/plain": [
       "[('mon', 'int'),\n",
       " ('dom', 'int'),\n",
       " ('dow', 'int'),\n",
       " ('carrier', 'string'),\n",
       " ('flight', 'int'),\n",
       " ('org', 'string'),\n",
       " ('mile', 'int'),\n",
       " ('depart', 'double'),\n",
       " ('duration', 'int'),\n",
       " ('delay', 'int')]"
      ]
     },
     "execution_count": 34,
     "metadata": {},
     "output_type": "execute_result"
    }
   ],
   "source": [
    "flights.dtypes"
   ]
  },
  {
   "cell_type": "markdown",
   "metadata": {},
   "source": [
    "## Data Cleaning and wrangling"
   ]
  },
  {
   "cell_type": "markdown",
   "metadata": {},
   "source": [
    "#### Delete columns and remove NA data"
   ]
  },
  {
   "cell_type": "code",
   "execution_count": 35,
   "metadata": {},
   "outputs": [],
   "source": [
    "flights=flights.drop(\"flight\")"
   ]
  },
  {
   "cell_type": "code",
   "execution_count": 36,
   "metadata": {},
   "outputs": [
    {
     "data": {
      "text/plain": [
       "2978"
      ]
     },
     "execution_count": 36,
     "metadata": {},
     "output_type": "execute_result"
    }
   ],
   "source": [
    "flights.filter(\"DELAY IS NULL\").count()"
   ]
  },
  {
   "cell_type": "code",
   "execution_count": 37,
   "metadata": {},
   "outputs": [],
   "source": [
    "flights=flights.filter('DELAY IS NOT NULL')"
   ]
  },
  {
   "cell_type": "code",
   "execution_count": 38,
   "metadata": {},
   "outputs": [],
   "source": [
    "flights=flights.dropna()"
   ]
  },
  {
   "cell_type": "markdown",
   "metadata": {},
   "source": [
    "#### Column manipulation"
   ]
  },
  {
   "cell_type": "code",
   "execution_count": 40,
   "metadata": {},
   "outputs": [],
   "source": [
    "from pyspark.sql.functions import round"
   ]
  },
  {
   "cell_type": "code",
   "execution_count": 41,
   "metadata": {},
   "outputs": [
    {
     "data": {
      "text/plain": [
       "['mon', 'dom', 'dow', 'carrier', 'org', 'mile', 'depart', 'duration', 'delay']"
      ]
     },
     "execution_count": 41,
     "metadata": {},
     "output_type": "execute_result"
    }
   ],
   "source": [
    "flights.columns"
   ]
  },
  {
   "cell_type": "code",
   "execution_count": 44,
   "metadata": {},
   "outputs": [],
   "source": [
    "flights_km= flights.withColumn('km', round(flights.mile * 1.60934, 0)).drop('mile')"
   ]
  },
  {
   "cell_type": "markdown",
   "metadata": {},
   "source": [
    "According to FAA, a flight is considered delayed when it arrives 15 mins or more after its scheduled time \n",
    "\n",
    "We create a label boolean column that labels flights as delayed (1) or not delayed (0)"
   ]
  },
  {
   "cell_type": "code",
   "execution_count": 45,
   "metadata": {},
   "outputs": [],
   "source": [
    "flights_km= flights_km.withColumn('label', (flights_km.delay >= 15).cast(\"integer\"))"
   ]
  },
  {
   "cell_type": "code",
   "execution_count": 47,
   "metadata": {},
   "outputs": [
    {
     "name": "stdout",
     "output_type": "stream",
     "text": [
      "+---+---+---+-------+---+------+--------+-----+------+-----+\n",
      "|mon|dom|dow|carrier|org|depart|duration|delay|    km|label|\n",
      "+---+---+---+-------+---+------+--------+-----+------+-----+\n",
      "|  0| 22|  2|     UA|ORD| 16.33|      82|   30| 509.0|    1|\n",
      "|  2| 20|  4|     UA|SFO|  6.17|      82|   -8| 542.0|    0|\n",
      "|  9| 13|  1|     AA|ORD| 10.33|     195|   -5|1989.0|    0|\n",
      "|  5|  2|  1|     UA|SFO|  7.98|     102|    2| 885.0|    0|\n",
      "|  7|  2|  6|     AA|ORD| 10.83|     135|   54|1180.0|    1|\n",
      "|  1| 16|  6|     UA|ORD|   8.0|     232|   -7|2317.0|    0|\n",
      "|  1| 22|  5|     UA|SJC|  7.98|     250|  -13|2943.0|    0|\n",
      "| 11|  8|  1|     OO|SFO|  7.77|      60|   88| 254.0|    1|\n",
      "|  4| 26|  1|     AA|SFO| 13.25|     210|  -10|2356.0|    0|\n",
      "|  4| 25|  0|     AA|ORD| 13.75|     160|   31|1574.0|    1|\n",
      "|  8| 30|  2|     UA|ORD| 13.28|     151|   16|1157.0|    1|\n",
      "|  3| 16|  3|     UA|ORD|   9.0|     264|    3|2808.0|    0|\n",
      "|  0|  3|  4|     AA|LGA| 17.08|     190|   32|1765.0|    1|\n",
      "|  5|  9|  1|     UA|SFO|  12.7|     158|   20|1556.0|    1|\n",
      "|  3| 10|  4|     B6|ORD| 17.58|     265|  155|2792.0|    1|\n",
      "| 11| 15|  1|     AA|ORD|  6.75|     160|   23|1291.0|    1|\n",
      "|  8| 18|  4|     UA|SJC|  6.33|     160|   17|1526.0|    1|\n",
      "|  2| 14|  5|     B6|JFK|  6.17|     166|    0|1519.0|    0|\n",
      "|  7| 21|  4|     OO|ORD|  19.0|     110|   21| 977.0|    1|\n",
      "| 11|  6|  6|     OO|SFO|  8.75|      82|   40| 509.0|    1|\n",
      "+---+---+---+-------+---+------+--------+-----+------+-----+\n",
      "only showing top 20 rows\n",
      "\n"
     ]
    }
   ],
   "source": [
    "flights_km.show()"
   ]
  },
  {
   "cell_type": "markdown",
   "metadata": {},
   "source": [
    "#### Categorical variables"
   ]
  },
  {
   "cell_type": "markdown",
   "metadata": {},
   "source": [
    "It's important to note that the StringOrderType is reversed, so the 0.0 index is the most frequent index"
   ]
  },
  {
   "cell_type": "code",
   "execution_count": 48,
   "metadata": {},
   "outputs": [],
   "source": [
    "from pyspark.ml.feature import StringIndexer"
   ]
  },
  {
   "cell_type": "code",
   "execution_count": 49,
   "metadata": {},
   "outputs": [],
   "source": [
    "indexer=StringIndexer(inputCol=\"carrier\", outputCol=\"carrier_idx\")"
   ]
  },
  {
   "cell_type": "code",
   "execution_count": 64,
   "metadata": {},
   "outputs": [],
   "source": [
    "indexer_model=indexer.fit(flights_km)"
   ]
  },
  {
   "cell_type": "code",
   "execution_count": 65,
   "metadata": {},
   "outputs": [],
   "source": [
    "flights_indexed=indexer_model.transform(flights_km)"
   ]
  },
  {
   "cell_type": "code",
   "execution_count": 66,
   "metadata": {},
   "outputs": [],
   "source": [
    "flights_indexed= StringIndexer(inputCol=\"org\", outputCol=\"org_idx\").fit(flights_indexed).transform(flights_indexed)"
   ]
  },
  {
   "cell_type": "code",
   "execution_count": 67,
   "metadata": {},
   "outputs": [
    {
     "name": "stdout",
     "output_type": "stream",
     "text": [
      "+---+---+---+-------+---+------+--------+-----+------+-----+-----------+-------+\n",
      "|mon|dom|dow|carrier|org|depart|duration|delay|    km|label|carrier_idx|org_idx|\n",
      "+---+---+---+-------+---+------+--------+-----+------+-----+-----------+-------+\n",
      "|  0| 22|  2|     UA|ORD| 16.33|      82|   30| 509.0|    1|        0.0|    0.0|\n",
      "|  2| 20|  4|     UA|SFO|  6.17|      82|   -8| 542.0|    0|        0.0|    1.0|\n",
      "|  9| 13|  1|     AA|ORD| 10.33|     195|   -5|1989.0|    0|        1.0|    0.0|\n",
      "|  5|  2|  1|     UA|SFO|  7.98|     102|    2| 885.0|    0|        0.0|    1.0|\n",
      "|  7|  2|  6|     AA|ORD| 10.83|     135|   54|1180.0|    1|        1.0|    0.0|\n",
      "|  1| 16|  6|     UA|ORD|   8.0|     232|   -7|2317.0|    0|        0.0|    0.0|\n",
      "|  1| 22|  5|     UA|SJC|  7.98|     250|  -13|2943.0|    0|        0.0|    5.0|\n",
      "| 11|  8|  1|     OO|SFO|  7.77|      60|   88| 254.0|    1|        2.0|    1.0|\n",
      "|  4| 26|  1|     AA|SFO| 13.25|     210|  -10|2356.0|    0|        1.0|    1.0|\n",
      "|  4| 25|  0|     AA|ORD| 13.75|     160|   31|1574.0|    1|        1.0|    0.0|\n",
      "|  8| 30|  2|     UA|ORD| 13.28|     151|   16|1157.0|    1|        0.0|    0.0|\n",
      "|  3| 16|  3|     UA|ORD|   9.0|     264|    3|2808.0|    0|        0.0|    0.0|\n",
      "|  0|  3|  4|     AA|LGA| 17.08|     190|   32|1765.0|    1|        1.0|    3.0|\n",
      "|  5|  9|  1|     UA|SFO|  12.7|     158|   20|1556.0|    1|        0.0|    1.0|\n",
      "|  3| 10|  4|     B6|ORD| 17.58|     265|  155|2792.0|    1|        4.0|    0.0|\n",
      "| 11| 15|  1|     AA|ORD|  6.75|     160|   23|1291.0|    1|        1.0|    0.0|\n",
      "|  8| 18|  4|     UA|SJC|  6.33|     160|   17|1526.0|    1|        0.0|    5.0|\n",
      "|  2| 14|  5|     B6|JFK|  6.17|     166|    0|1519.0|    0|        4.0|    2.0|\n",
      "|  7| 21|  4|     OO|ORD|  19.0|     110|   21| 977.0|    1|        2.0|    0.0|\n",
      "| 11|  6|  6|     OO|SFO|  8.75|      82|   40| 509.0|    1|        2.0|    1.0|\n",
      "+---+---+---+-------+---+------+--------+-----+------+-----+-----------+-------+\n",
      "only showing top 20 rows\n",
      "\n"
     ]
    }
   ],
   "source": [
    "flights_indexed.show()"
   ]
  },
  {
   "cell_type": "markdown",
   "metadata": {},
   "source": [
    "In spark, in order to run a machine learning tasks, the features should all be assembled into one column using vectorassembler class"
   ]
  },
  {
   "cell_type": "code",
   "execution_count": 57,
   "metadata": {},
   "outputs": [],
   "source": [
    "from pyspark.ml.feature import VectorAssembler"
   ]
  },
  {
   "cell_type": "code",
   "execution_count": 61,
   "metadata": {},
   "outputs": [],
   "source": [
    "assembler= VectorAssembler(inputCols=['mon', 'dom', 'dow', 'carrier_idx', 'org_idx', 'km', 'depart', 'duration'], outputCol='features')"
   ]
  },
  {
   "cell_type": "code",
   "execution_count": 71,
   "metadata": {},
   "outputs": [],
   "source": [
    "flights_assembled = assembler.transform(flights_indexed)"
   ]
  },
  {
   "cell_type": "code",
   "execution_count": 73,
   "metadata": {},
   "outputs": [
    {
     "name": "stdout",
     "output_type": "stream",
     "text": [
      "+-----------------------------------------+-----+\n",
      "|features                                 |delay|\n",
      "+-----------------------------------------+-----+\n",
      "|[0.0,22.0,2.0,0.0,0.0,509.0,16.33,82.0]  |30   |\n",
      "|[2.0,20.0,4.0,0.0,1.0,542.0,6.17,82.0]   |-8   |\n",
      "|[9.0,13.0,1.0,1.0,0.0,1989.0,10.33,195.0]|-5   |\n",
      "|[5.0,2.0,1.0,0.0,1.0,885.0,7.98,102.0]   |2    |\n",
      "|[7.0,2.0,6.0,1.0,0.0,1180.0,10.83,135.0] |54   |\n",
      "+-----------------------------------------+-----+\n",
      "only showing top 5 rows\n",
      "\n"
     ]
    }
   ],
   "source": [
    "flights_assembled.select('features', 'delay').show(5, truncate=False)"
   ]
  },
  {
   "cell_type": "markdown",
   "metadata": {},
   "source": [
    "### Build ML: Decision Trees"
   ]
  },
  {
   "cell_type": "code",
   "execution_count": 74,
   "metadata": {},
   "outputs": [],
   "source": [
    "flights_train, flights_test= flights_assembled.randomSplit([0.8, 0.2], seed=17)"
   ]
  },
  {
   "cell_type": "code",
   "execution_count": 75,
   "metadata": {},
   "outputs": [],
   "source": [
    "training_ratio=flights_train.count()/flights_test.count()"
   ]
  },
  {
   "cell_type": "code",
   "execution_count": 76,
   "metadata": {},
   "outputs": [
    {
     "name": "stdout",
     "output_type": "stream",
     "text": [
      "3.9522906793048973\n"
     ]
    }
   ],
   "source": [
    "print(training_ratio)"
   ]
  },
  {
   "cell_type": "code",
   "execution_count": 77,
   "metadata": {},
   "outputs": [],
   "source": [
    "from pyspark.ml.classification import DecisionTreeClassifier"
   ]
  },
  {
   "cell_type": "code",
   "execution_count": 78,
   "metadata": {},
   "outputs": [],
   "source": [
    "tree=DecisionTreeClassifier()"
   ]
  },
  {
   "cell_type": "code",
   "execution_count": 80,
   "metadata": {},
   "outputs": [],
   "source": [
    "tree_model=tree.fit(flights_train)"
   ]
  },
  {
   "cell_type": "code",
   "execution_count": 82,
   "metadata": {},
   "outputs": [],
   "source": [
    "prediction=tree_model.transform(flights_test)"
   ]
  },
  {
   "cell_type": "code",
   "execution_count": 83,
   "metadata": {},
   "outputs": [
    {
     "name": "stdout",
     "output_type": "stream",
     "text": [
      "+-----+----------+----------------------------------------+\n",
      "|label|prediction|probability                             |\n",
      "+-----+----------+----------------------------------------+\n",
      "|1    |1.0       |[0.4902093180283592,0.5097906819716408] |\n",
      "|1    |1.0       |[0.39567511906294245,0.6043248809370575]|\n",
      "|1    |1.0       |[0.31828757561656584,0.6817124243834342]|\n",
      "|1    |1.0       |[0.31828757561656584,0.6817124243834342]|\n",
      "|1    |1.0       |[0.31828757561656584,0.6817124243834342]|\n",
      "+-----+----------+----------------------------------------+\n",
      "only showing top 5 rows\n",
      "\n"
     ]
    }
   ],
   "source": [
    "prediction.select(\"label\", \"prediction\", \"probability\").show(5, False)"
   ]
  },
  {
   "cell_type": "markdown",
   "metadata": {},
   "source": [
    "#### Create a confusion matrix"
   ]
  },
  {
   "cell_type": "code",
   "execution_count": 84,
   "metadata": {},
   "outputs": [
    {
     "name": "stdout",
     "output_type": "stream",
     "text": [
      "+-----+----------+-----+\n",
      "|label|prediction|count|\n",
      "+-----+----------+-----+\n",
      "|    1|       0.0| 1218|\n",
      "|    0|       0.0| 2422|\n",
      "|    1|       1.0| 3606|\n",
      "|    0|       1.0| 2249|\n",
      "+-----+----------+-----+\n",
      "\n"
     ]
    }
   ],
   "source": [
    "prediction.groupBy('label', 'prediction').count().show()"
   ]
  },
  {
   "cell_type": "code",
   "execution_count": 86,
   "metadata": {},
   "outputs": [],
   "source": [
    "TN= prediction.filter('prediction= 0 AND label=0').count()\n",
    "TP= prediction.filter('prediction= 1 AND label=1').count()\n",
    "FN= prediction.filter('prediction= 0 AND label=1').count()\n",
    "FP= prediction.filter('prediction= 1 AND label=0').count()\n"
   ]
  },
  {
   "cell_type": "code",
   "execution_count": 89,
   "metadata": {},
   "outputs": [
    {
     "name": "stdout",
     "output_type": "stream",
     "text": [
      "0.6348604528699315\n"
     ]
    }
   ],
   "source": [
    "accuracy=(TN+TP)/(TP+TN+FP+FN)\n",
    "print(accuracy)"
   ]
  },
  {
   "cell_type": "markdown",
   "metadata": {},
   "source": [
    "### Build ML: Logistic Regression"
   ]
  },
  {
   "cell_type": "code",
   "execution_count": 90,
   "metadata": {},
   "outputs": [],
   "source": [
    "from pyspark.ml.classification import LogisticRegression"
   ]
  },
  {
   "cell_type": "code",
   "execution_count": 91,
   "metadata": {},
   "outputs": [],
   "source": [
    "logistic=LogisticRegression().fit(flights_train)"
   ]
  },
  {
   "cell_type": "code",
   "execution_count": 92,
   "metadata": {},
   "outputs": [],
   "source": [
    "prediction_l=logistic.transform(flights_test)"
   ]
  },
  {
   "cell_type": "code",
   "execution_count": 93,
   "metadata": {},
   "outputs": [
    {
     "name": "stdout",
     "output_type": "stream",
     "text": [
      "+-----+----------+-----+\n",
      "|label|prediction|count|\n",
      "+-----+----------+-----+\n",
      "|    1|       0.0| 1218|\n",
      "|    0|       0.0| 2422|\n",
      "|    1|       1.0| 3606|\n",
      "|    0|       1.0| 2249|\n",
      "+-----+----------+-----+\n",
      "\n"
     ]
    }
   ],
   "source": [
    "prediction.groupBy(\"label\", \"prediction\").count().show()"
   ]
  },
  {
   "cell_type": "code",
   "execution_count": 96,
   "metadata": {},
   "outputs": [],
   "source": [
    "TN_= prediction.filter('prediction= 0 AND label=0').count()\n",
    "TP_= prediction.filter('prediction= 1 AND label=1').count()\n",
    "FN_= prediction.filter('prediction= 0 AND label=1').count()\n",
    "FP_= prediction.filter('prediction= 1 AND label=0').count()\n"
   ]
  },
  {
   "cell_type": "code",
   "execution_count": 95,
   "metadata": {},
   "outputs": [],
   "source": [
    "from pyspark.ml.evaluation import MulticlassClassificationEvaluator, BinaryClassificationEvaluator"
   ]
  },
  {
   "cell_type": "code",
   "execution_count": 104,
   "metadata": {},
   "outputs": [],
   "source": [
    "precision=TP_/(TP_+FP_) #how precise are you in predicting a positive outcome\n",
    "# for all the flights predicted to be delayed, what proportion id actually delayed"
   ]
  },
  {
   "cell_type": "code",
   "execution_count": 105,
   "metadata": {},
   "outputs": [],
   "source": [
    "recall=TP_/(TP_+FN_) #did the machine learn how to account for unexpected events\n",
    "#for all the flights delayed, what proportion is correctly predicted by the model"
   ]
  },
  {
   "cell_type": "code",
   "execution_count": 103,
   "metadata": {},
   "outputs": [
    {
     "name": "stdout",
     "output_type": "stream",
     "text": [
      "precision = 0.62 \n",
      " recall= 0.75\n"
     ]
    }
   ],
   "source": [
    "print('precision = {:.2f} \\n recall= {:.2f}'.format(precision, recall))"
   ]
  },
  {
   "cell_type": "markdown",
   "metadata": {},
   "source": [
    "The issue here is the precision and recall are formulated in the positive target class, alternatively, we could use a weighted versions of these metrics"
   ]
  },
  {
   "cell_type": "code",
   "execution_count": 106,
   "metadata": {},
   "outputs": [],
   "source": [
    "multi_evaluator=MulticlassClassificationEvaluator()"
   ]
  },
  {
   "cell_type": "markdown",
   "metadata": {},
   "source": [
    "Depending on the business context, the better metric would be chosen. However, for the purpose of this project, I would assume recall is more important than precision as\n",
    "flights predicted to be delayed but are not or flights not predicted to be delayed but actually get delayed cause major disruption for passengers "
   ]
  },
  {
   "cell_type": "code",
   "execution_count": 110,
   "metadata": {},
   "outputs": [
    {
     "name": "stdout",
     "output_type": "stream",
     "text": [
      "0.6126382306477093\n"
     ]
    }
   ],
   "source": [
    "weighted_recall= multi_evaluator.evaluate(prediction_l, {multi_evaluator.metricName: 'weightedRecall'})\n",
    "print(weighted_recall)"
   ]
  },
  {
   "cell_type": "code",
   "execution_count": 113,
   "metadata": {},
   "outputs": [
    {
     "name": "stdout",
     "output_type": "stream",
     "text": [
      "0.6501216177018289\n"
     ]
    }
   ],
   "source": [
    "binary_evalator=BinaryClassificationEvaluator()\n",
    "auc=binary_evalator.evaluate(prediction_l, {binary_evalator.metricName: 'areaUnderROC'})\n",
    "print(auc)"
   ]
  },
  {
   "cell_type": "markdown",
   "metadata": {},
   "source": [
    "If you notice, the index values we have are not the right representation of our cateogrical variables"
   ]
  },
  {
   "cell_type": "code",
   "execution_count": 114,
   "metadata": {},
   "outputs": [],
   "source": [
    "from pyspark.ml.feature import OneHotEncoderEstimator"
   ]
  },
  {
   "cell_type": "code",
   "execution_count": 115,
   "metadata": {},
   "outputs": [
    {
     "name": "stdout",
     "output_type": "stream",
     "text": [
      "+---+---+---+-------+---+------+--------+-----+------+-----+-----------+-------+--------------------+\n",
      "|mon|dom|dow|carrier|org|depart|duration|delay|    km|label|carrier_idx|org_idx|            features|\n",
      "+---+---+---+-------+---+------+--------+-----+------+-----+-----------+-------+--------------------+\n",
      "|  0| 22|  2|     UA|ORD| 16.33|      82|   30| 509.0|    1|        0.0|    0.0|[0.0,22.0,2.0,0.0...|\n",
      "|  2| 20|  4|     UA|SFO|  6.17|      82|   -8| 542.0|    0|        0.0|    1.0|[2.0,20.0,4.0,0.0...|\n",
      "|  9| 13|  1|     AA|ORD| 10.33|     195|   -5|1989.0|    0|        1.0|    0.0|[9.0,13.0,1.0,1.0...|\n",
      "|  5|  2|  1|     UA|SFO|  7.98|     102|    2| 885.0|    0|        0.0|    1.0|[5.0,2.0,1.0,0.0,...|\n",
      "|  7|  2|  6|     AA|ORD| 10.83|     135|   54|1180.0|    1|        1.0|    0.0|[7.0,2.0,6.0,1.0,...|\n",
      "+---+---+---+-------+---+------+--------+-----+------+-----+-----------+-------+--------------------+\n",
      "only showing top 5 rows\n",
      "\n"
     ]
    }
   ],
   "source": [
    "flights_assembled.show(5)"
   ]
  },
  {
   "cell_type": "code",
   "execution_count": 120,
   "metadata": {},
   "outputs": [],
   "source": [
    "one_hot=OneHotEncoderEstimator(inputCols=['org_idx'], outputCols=['org_dummy'])"
   ]
  },
  {
   "cell_type": "code",
   "execution_count": 121,
   "metadata": {},
   "outputs": [],
   "source": [
    "onehot=one_hot.fit(flights_assembled)"
   ]
  },
  {
   "cell_type": "code",
   "execution_count": 122,
   "metadata": {},
   "outputs": [],
   "source": [
    "flights_onehot=onehot.transform(flights_assembled)"
   ]
  },
  {
   "cell_type": "code",
   "execution_count": 126,
   "metadata": {},
   "outputs": [
    {
     "name": "stdout",
     "output_type": "stream",
     "text": [
      "+---+-------+-------------+\n",
      "|org|org_idx|    org_dummy|\n",
      "+---+-------+-------------+\n",
      "|ORD|    0.0|(7,[0],[1.0])|\n",
      "|SFO|    1.0|(7,[1],[1.0])|\n",
      "|JFK|    2.0|(7,[2],[1.0])|\n",
      "|LGA|    3.0|(7,[3],[1.0])|\n",
      "|SMF|    4.0|(7,[4],[1.0])|\n",
      "|SJC|    5.0|(7,[5],[1.0])|\n",
      "|TUS|    6.0|(7,[6],[1.0])|\n",
      "|OGG|    7.0|    (7,[],[])|\n",
      "+---+-------+-------------+\n",
      "\n"
     ]
    }
   ],
   "source": [
    "flights_onehot.select('org', 'org_idx', 'org_dummy').distinct().sort('org_idx').show()"
   ]
  },
  {
   "cell_type": "markdown",
   "metadata": {},
   "source": [
    "### Predicting Duration of flight"
   ]
  },
  {
   "cell_type": "code",
   "execution_count": 183,
   "metadata": {},
   "outputs": [],
   "source": [
    "subset=flights_assembled.select(\"km\", \"duration\")"
   ]
  },
  {
   "cell_type": "code",
   "execution_count": 195,
   "metadata": {},
   "outputs": [],
   "source": [
    "subset=flights_onehot.select(\"km\",\"org_dummy\",  \"duration\")\n",
    "subset=VectorAssembler(inputCols=[\"km\", \"org_dummy\"], outputCol=\"features\").transform(subset)"
   ]
  },
  {
   "cell_type": "code",
   "execution_count": 196,
   "metadata": {},
   "outputs": [
    {
     "name": "stdout",
     "output_type": "stream",
     "text": [
      "+------+-------------+--------+--------------------+\n",
      "|    km|    org_dummy|duration|            features|\n",
      "+------+-------------+--------+--------------------+\n",
      "| 509.0|(7,[0],[1.0])|      82|(8,[0,1],[509.0,1...|\n",
      "| 542.0|(7,[1],[1.0])|      82|(8,[0,2],[542.0,1...|\n",
      "|1989.0|(7,[0],[1.0])|     195|(8,[0,1],[1989.0,...|\n",
      "| 885.0|(7,[1],[1.0])|     102|(8,[0,2],[885.0,1...|\n",
      "|1180.0|(7,[0],[1.0])|     135|(8,[0,1],[1180.0,...|\n",
      "|2317.0|(7,[0],[1.0])|     232|(8,[0,1],[2317.0,...|\n",
      "|2943.0|(7,[5],[1.0])|     250|(8,[0,6],[2943.0,...|\n",
      "| 254.0|(7,[1],[1.0])|      60|(8,[0,2],[254.0,1...|\n",
      "|2356.0|(7,[1],[1.0])|     210|(8,[0,2],[2356.0,...|\n",
      "|1574.0|(7,[0],[1.0])|     160|(8,[0,1],[1574.0,...|\n",
      "|1157.0|(7,[0],[1.0])|     151|(8,[0,1],[1157.0,...|\n",
      "|2808.0|(7,[0],[1.0])|     264|(8,[0,1],[2808.0,...|\n",
      "|1765.0|(7,[3],[1.0])|     190|(8,[0,4],[1765.0,...|\n",
      "|1556.0|(7,[1],[1.0])|     158|(8,[0,2],[1556.0,...|\n",
      "|2792.0|(7,[0],[1.0])|     265|(8,[0,1],[2792.0,...|\n",
      "|1291.0|(7,[0],[1.0])|     160|(8,[0,1],[1291.0,...|\n",
      "|1526.0|(7,[5],[1.0])|     160|(8,[0,6],[1526.0,...|\n",
      "|1519.0|(7,[2],[1.0])|     166|(8,[0,3],[1519.0,...|\n",
      "| 977.0|(7,[0],[1.0])|     110|(8,[0,1],[977.0,1...|\n",
      "| 509.0|(7,[1],[1.0])|      82|(8,[0,2],[509.0,1...|\n",
      "+------+-------------+--------+--------------------+\n",
      "only showing top 20 rows\n",
      "\n"
     ]
    }
   ],
   "source": [
    "subset.show()"
   ]
  },
  {
   "cell_type": "code",
   "execution_count": 212,
   "metadata": {},
   "outputs": [
    {
     "data": {
      "text/plain": [
       "Column<b'features[0]'>"
      ]
     },
     "execution_count": 212,
     "metadata": {},
     "output_type": "execute_result"
    }
   ],
   "source": [
    "subset.features[0]"
   ]
  },
  {
   "cell_type": "code",
   "execution_count": null,
   "metadata": {},
   "outputs": [],
   "source": [
    "subset=VectorAssembler(inputCols=[\"km\"], outputCol=\"features\").transform(subset)"
   ]
  },
  {
   "cell_type": "code",
   "execution_count": 188,
   "metadata": {},
   "outputs": [],
   "source": [
    "from pyspark.ml.regression import LinearRegression \n",
    "from pyspark.ml.evaluation import RegressionEvaluator"
   ]
  },
  {
   "cell_type": "code",
   "execution_count": 199,
   "metadata": {},
   "outputs": [],
   "source": [
    "flights_train, flights_test= subset.randomSplit([0.8, 0.2], seed=17)"
   ]
  },
  {
   "cell_type": "code",
   "execution_count": 200,
   "metadata": {},
   "outputs": [],
   "source": [
    "regression=LinearRegression(labelCol=\"duration\").fit(flights_train)"
   ]
  },
  {
   "cell_type": "code",
   "execution_count": 201,
   "metadata": {},
   "outputs": [],
   "source": [
    "predictions=regression.transform(flights_test)"
   ]
  },
  {
   "cell_type": "code",
   "execution_count": 192,
   "metadata": {},
   "outputs": [
    {
     "name": "stdout",
     "output_type": "stream",
     "text": [
      "+--------+-----------------+\n",
      "|duration|prediction       |\n",
      "+--------+-----------------+\n",
      "|44      |52.31997678812364|\n",
      "|46      |52.31997678812364|\n",
      "|47      |52.31997678812364|\n",
      "|47      |52.31997678812364|\n",
      "|47      |52.31997678812364|\n",
      "|47      |52.31997678812364|\n",
      "|48      |52.31997678812364|\n",
      "|48      |52.31997678812364|\n",
      "|48      |52.31997678812364|\n",
      "|48      |52.31997678812364|\n",
      "|49      |52.31997678812364|\n",
      "|49      |52.31997678812364|\n",
      "|49      |52.31997678812364|\n",
      "|51      |52.31997678812364|\n",
      "|53      |52.31997678812364|\n",
      "|39      |53.53016578145956|\n",
      "|39      |53.53016578145956|\n",
      "|40      |53.53016578145956|\n",
      "|40      |53.53016578145956|\n",
      "|41      |53.53016578145956|\n",
      "|42      |53.53016578145956|\n",
      "|42      |53.53016578145956|\n",
      "|42      |53.53016578145956|\n",
      "|42      |53.53016578145956|\n",
      "|43      |53.53016578145956|\n",
      "|43      |53.53016578145956|\n",
      "+--------+-----------------+\n",
      "only showing top 26 rows\n",
      "\n"
     ]
    }
   ],
   "source": [
    "predictions.select('duration', 'prediction').show(26 ,False)"
   ]
  },
  {
   "cell_type": "code",
   "execution_count": 202,
   "metadata": {},
   "outputs": [
    {
     "name": "stdout",
     "output_type": "stream",
     "text": [
      "+--------+-----------------+\n",
      "|duration|prediction       |\n",
      "+--------+-----------------+\n",
      "|44      |52.33681808115269|\n",
      "|46      |52.33681808115269|\n",
      "|47      |52.33681808115269|\n",
      "|47      |52.33681808115269|\n",
      "|47      |52.33681808115269|\n",
      "+--------+-----------------+\n",
      "only showing top 5 rows\n",
      "\n"
     ]
    }
   ],
   "source": [
    "predictions.select('duration', 'prediction').show(5, False)"
   ]
  },
  {
   "cell_type": "code",
   "execution_count": 203,
   "metadata": {},
   "outputs": [
    {
     "data": {
      "text/plain": [
       "11.050019756733828"
      ]
     },
     "execution_count": 203,
     "metadata": {},
     "output_type": "execute_result"
    }
   ],
   "source": [
    "RegressionEvaluator(labelCol='duration').evaluate(predictions)"
   ]
  },
  {
   "cell_type": "code",
   "execution_count": 194,
   "metadata": {},
   "outputs": [
    {
     "name": "stdout",
     "output_type": "stream",
     "text": [
      "44.151201083106216\n"
     ]
    }
   ],
   "source": [
    "inter=regression.intercept\n",
    "print(inter) #average mins on the ground"
   ]
  },
  {
   "cell_type": "code",
   "execution_count": 161,
   "metadata": {},
   "outputs": [
    {
     "name": "stdout",
     "output_type": "stream",
     "text": [
      "[0.0756368120834947]\n"
     ]
    }
   ],
   "source": [
    "coefs=regression.coefficients\n",
    "print(coefs)\n",
    "minutes_per_km= regression.coefficients[0]"
   ]
  },
  {
   "cell_type": "code",
   "execution_count": 163,
   "metadata": {},
   "outputs": [
    {
     "name": "stdout",
     "output_type": "stream",
     "text": [
      "793.2645275129605\n"
     ]
    }
   ],
   "source": [
    "avg_speed=60/minutes_per_km\n",
    "print(avg_speed)"
   ]
  },
  {
   "cell_type": "code",
   "execution_count": 214,
   "metadata": {},
   "outputs": [
    {
     "name": "stdout",
     "output_type": "stream",
     "text": [
      "15.64805785642961\n",
      "68.20907647901029\n",
      "62.39772859362184\n"
     ]
    }
   ],
   "source": [
    "inter=regression.intercept\n",
    "print(inter) #average mins on the ground\n",
    "avg_ground_jfk= inter + regression.coefficients[3]\n",
    "print(avg_ground_jfk)\n",
    "avg_ground_lga= inter + regression.coefficients[4]\n",
    "print(avg_ground_lga)"
   ]
  },
  {
   "cell_type": "code",
   "execution_count": null,
   "metadata": {},
   "outputs": [],
   "source": []
  }
 ],
 "metadata": {
  "kernelspec": {
   "display_name": "conda_python3",
   "language": "python",
   "name": "conda_python3"
  },
  "language_info": {
   "codemirror_mode": {
    "name": "ipython",
    "version": 3
   },
   "file_extension": ".py",
   "mimetype": "text/x-python",
   "name": "python",
   "nbconvert_exporter": "python",
   "pygments_lexer": "ipython3",
   "version": "3.6.5"
  }
 },
 "nbformat": 4,
 "nbformat_minor": 4
}
